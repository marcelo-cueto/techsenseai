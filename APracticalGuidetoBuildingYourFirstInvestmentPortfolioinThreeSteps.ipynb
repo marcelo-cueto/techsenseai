{
 "cells": [
  {
   "cell_type": "code",
   "execution_count": null,
   "metadata": {},
   "outputs": [],
   "source": [
    "pip install yfinance"
   ]
  },
  {
   "cell_type": "code",
   "execution_count": 5,
   "metadata": {},
   "outputs": [],
   "source": [
    "import yfinance as yf\n",
    "\n",
    "\n",
    "\n"
   ]
  },
  {
   "cell_type": "code",
   "execution_count": 6,
   "metadata": {},
   "outputs": [],
   "source": [
    "def filter_by_market_cap(ticker, min_market_cap=10e9):\n",
    "    stock = yf.Ticker(ticker)\n",
    "    market_cap = stock.info.get(\"marketCap\", 0)\n",
    "    if market_cap >= min_market_cap:\n",
    "        return f\"{ticker} has a market cap of {market_cap:.2f}\"\n",
    "    else:\n",
    "        return f\"{ticker} is too small for the market cap filter\""
   ]
  },
  {
   "cell_type": "code",
   "execution_count": 7,
   "metadata": {},
   "outputs": [
    {
     "name": "stdout",
     "output_type": "stream",
     "text": [
      "AAPL has a market cap of 3430681935872.00\n"
     ]
    }
   ],
   "source": [
    "# Example usage:\n",
    "print(filter_by_market_cap(\"AAPL\"))  # Minimum market cap of $10B"
   ]
  },
  {
   "cell_type": "code",
   "execution_count": 8,
   "metadata": {},
   "outputs": [
    {
     "name": "stdout",
     "output_type": "stream",
     "text": [
      "AAPL has a positive analyst rating of 2.1 (1=Strong Buy, 5=Sell)\n"
     ]
    }
   ],
   "source": [
    "def verify_analyst_forecast(ticker):\n",
    "    stock = yf.Ticker(ticker)\n",
    "    recommendation = stock.info.get(\"recommendationMean\", None)\n",
    "    if recommendation and recommendation < 3:  # Scores under 3 indicate positive forecasts\n",
    "        return f\"{ticker} has a positive analyst rating of {recommendation} (1=Strong Buy, 5=Sell)\"\n",
    "    else:\n",
    "        return f\"{ticker} does not have a favorable analyst rating.\"\n",
    "\n",
    "# Example usage:\n",
    "print(verify_analyst_forecast(\"AAPL\"))"
   ]
  },
  {
   "cell_type": "code",
   "execution_count": 9,
   "metadata": {},
   "outputs": [
    {
     "name": "stdout",
     "output_type": "stream",
     "text": [
      "AAPL does not meet the 10% sales growth benchmark.\n"
     ]
    }
   ],
   "source": [
    "def sales_growth_5_years(ticker):\n",
    "    stock = yf.Ticker(ticker)\n",
    "    financials = stock.financials.T\n",
    "    initial_sales = financials['Total Revenue'][-5]\n",
    "    final_sales = financials['Total Revenue'][0]\n",
    "    growth = ((final_sales - initial_sales) / initial_sales) * 100\n",
    "    if growth >= 10:\n",
    "        return f\"{ticker} has increased sales by {growth:.2f}% over the last five years.\"\n",
    "    else:\n",
    "        return f\"{ticker} does not meet the 10% sales growth benchmark.\"\n",
    "\n",
    "# Example usage:\n",
    "print(sales_growth_5_years(\"AAPL\"))"
   ]
  },
  {
   "cell_type": "code",
   "execution_count": 10,
   "metadata": {},
   "outputs": [
    {
     "name": "stdout",
     "output_type": "stream",
     "text": [
      "AAPL shows limited growth potential.\n"
     ]
    }
   ],
   "source": [
    "def steady_growth(ticker):\n",
    "    stock = yf.Ticker(ticker)\n",
    "    historical_revenue = stock.financials.T['Total Revenue']\n",
    "    growth_rates = historical_revenue.pct_change().dropna() * 100\n",
    "    average_growth = growth_rates.mean()\n",
    "    if average_growth > 5:  # Example threshold of >5% average annual growth\n",
    "        return f\"{ticker} has an average annual growth rate of {average_growth:.2f}%.\"\n",
    "    else:\n",
    "        return f\"{ticker} shows limited growth potential.\"\n",
    "\n",
    "# Example usage:\n",
    "print(steady_growth(\"AAPL\"))"
   ]
  },
  {
   "cell_type": "code",
   "execution_count": 11,
   "metadata": {},
   "outputs": [
    {
     "name": "stdout",
     "output_type": "stream",
     "text": [
      "Portfolio Performance: {'AAPL': 25.197285633841695, 'MSFT': 18.027009720198617, 'GOOGL': 37.27858200402474}\n"
     ]
    }
   ],
   "source": [
    "import numpy as np\n",
    "\n",
    "def portfolio_review(portfolio):\n",
    "    returns = {}\n",
    "    for ticker in portfolio:\n",
    "        stock = yf.Ticker(ticker)\n",
    "        history = stock.history(period=\"1y\")['Close']\n",
    "        return_rate = (history[-1] / history[0]) - 1\n",
    "        returns[ticker] = return_rate * 100  # Return as a percentage\n",
    "    return returns\n",
    "\n",
    "# Example usage:\n",
    "portfolio = [\"AAPL\", \"MSFT\", \"GOOGL\"]\n",
    "print(\"Portfolio Performance:\", portfolio_review(portfolio))\n"
   ]
  },
  {
   "cell_type": "code",
   "execution_count": 12,
   "metadata": {},
   "outputs": [
    {
     "name": "stdout",
     "output_type": "stream",
     "text": [
      "The annual return for SPY is 39.75%.\n"
     ]
    }
   ],
   "source": [
    "def etf_performance(ticker=\"SPY\"):\n",
    "    etf = yf.Ticker(ticker)\n",
    "    history = etf.history(period=\"1y\")['Close']\n",
    "    return_rate = (history[-1] / history[0]) - 1\n",
    "    return f\"The annual return for {ticker} is {return_rate * 100:.2f}%.\"\n",
    "\n",
    "# Example usage:\n",
    "print(etf_performance())"
   ]
  },
  {
   "cell_type": "code",
   "execution_count": 13,
   "metadata": {},
   "outputs": [
    {
     "name": "stdout",
     "output_type": "stream",
     "text": [
      "{'^GSPC': 37.9125192216478, '^IXIC': 42.63839320697402}\n"
     ]
    }
   ],
   "source": [
    "def market_trends(indices=[\"^GSPC\", \"^IXIC\"]):  # S&P 500 and Nasdaq\n",
    "    trends = {}\n",
    "    for index in indices:\n",
    "        index_data = yf.Ticker(index)\n",
    "        history = index_data.history(period=\"1y\")['Close']\n",
    "        performance = (history[-1] / history[0]) - 1\n",
    "        trends[index] = performance * 100\n",
    "    return trends\n",
    "\n",
    "# Example usage:\n",
    "print(market_trends())"
   ]
  },
  {
   "cell_type": "code",
   "execution_count": 14,
   "metadata": {},
   "outputs": [
    {
     "name": "stdout",
     "output_type": "stream",
     "text": [
      "{'Current Price': 226.9600067138672, 'Market Cap': 3430681935872, 'P/E Ratio': 37.32895, 'Analyst Rating': 2.1}\n"
     ]
    }
   ],
   "source": [
    "def quick_info(ticker):\n",
    "    stock = yf.Ticker(ticker)\n",
    "    info = {\n",
    "        \"Current Price\": stock.history(period=\"1d\")['Close'][-1],\n",
    "        \"Market Cap\": stock.info.get(\"marketCap\"),\n",
    "        \"P/E Ratio\": stock.info.get(\"trailingPE\"),\n",
    "        \"Analyst Rating\": stock.info.get(\"recommendationMean\"),\n",
    "    }\n",
    "    return info\n",
    "\n",
    "# Example usage:\n",
    "print(quick_info(\"AAPL\"))"
   ]
  },
  {
   "cell_type": "code",
   "execution_count": 15,
   "metadata": {},
   "outputs": [
    {
     "name": "stdout",
     "output_type": "stream",
     "text": [
      "AAPL - P/E Ratio: 37.32895, P/B Ratio: 60.24954\n"
     ]
    }
   ],
   "source": [
    "def real_value(ticker):\n",
    "    stock = yf.Ticker(ticker)\n",
    "    pe_ratio = stock.info.get(\"trailingPE\")\n",
    "    pb_ratio = stock.info.get(\"priceToBook\")\n",
    "    return f\"{ticker} - P/E Ratio: {pe_ratio}, P/B Ratio: {pb_ratio}\"\n",
    "\n",
    "# Example usage:\n",
    "print(real_value(\"AAPL\"))"
   ]
  },
  {
   "cell_type": "code",
   "execution_count": 16,
   "metadata": {},
   "outputs": [
    {
     "name": "stdout",
     "output_type": "stream",
     "text": [
      "AAPL does not meet the investment criteria.\n"
     ]
    }
   ],
   "source": [
    "def evaluate_investment_opportunity(ticker):\n",
    "    stock = yf.Ticker(ticker)\n",
    "    pe_ratio = stock.info.get(\"trailingPE\", 0)\n",
    "    sales_growth = sales_growth_5_years(ticker)\n",
    "    recommendation = stock.info.get(\"recommendationMean\", 5)\n",
    "\n",
    "    if pe_ratio < 20 and \"increased\" in sales_growth and recommendation < 3:\n",
    "        return f\"{ticker} meets the investment criteria.\"\n",
    "    else:\n",
    "        return f\"{ticker} does not meet the investment criteria.\"\n",
    "\n",
    "# Example usage:\n",
    "print(evaluate_investment_opportunity(\"AAPL\"))"
   ]
  },
  {
   "cell_type": "code",
   "execution_count": null,
   "metadata": {},
   "outputs": [],
   "source": []
  }
 ],
 "metadata": {
  "kernelspec": {
   "display_name": "Python 3",
   "language": "python",
   "name": "python3"
  },
  "language_info": {
   "codemirror_mode": {
    "name": "ipython",
    "version": 3
   },
   "file_extension": ".py",
   "mimetype": "text/x-python",
   "name": "python",
   "nbconvert_exporter": "python",
   "pygments_lexer": "ipython3",
   "version": "3.10.2"
  }
 },
 "nbformat": 4,
 "nbformat_minor": 2
}
